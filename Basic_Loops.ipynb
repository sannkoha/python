{
  "nbformat": 4,
  "nbformat_minor": 0,
  "metadata": {
    "colab": {
      "name": "Basic Loops.ipynb",
      "provenance": [],
      "collapsed_sections": [],
      "authorship_tag": "ABX9TyOizuKVq2UEVPnkTBWxmsKE",
      "include_colab_link": true
    },
    "kernelspec": {
      "name": "python3",
      "display_name": "Python 3"
    },
    "language_info": {
      "name": "python"
    }
  },
  "cells": [
    {
      "cell_type": "markdown",
      "metadata": {
        "id": "view-in-github",
        "colab_type": "text"
      },
      "source": [
        "<a href=\"https://colab.research.google.com/github/sannkoha/python/blob/master/Basic_Loops.ipynb\" target=\"_parent\"><img src=\"https://colab.research.google.com/assets/colab-badge.svg\" alt=\"Open In Colab\"/></a>"
      ]
    },
    {
      "cell_type": "code",
      "execution_count": 1,
      "metadata": {
        "colab": {
          "base_uri": "https://localhost:8080/"
        },
        "id": "yzujwvFkVqYO",
        "outputId": "ba0f5cd4-b6bf-4ccc-bda2-1ebcfcde4497"
      },
      "outputs": [
        {
          "output_type": "stream",
          "name": "stdout",
          "text": [
            "1\n",
            "2\n",
            "3\n",
            "4\n",
            "5\n",
            "6\n",
            "7\n",
            "8\n",
            "9\n",
            "10\n",
            "11\n"
          ]
        }
      ],
      "source": [
        "\"\"\"\n",
        "Simple for loop to print numbers from 0 to 11\n",
        "\"\"\"\n",
        "for i in range(1,12):\n",
        "  print(i)"
      ]
    },
    {
      "cell_type": "code",
      "source": [
        "\"\"\"\n",
        "Simple while loop to print numbers from 0 to 11\n",
        "\"\"\"\n",
        "x=0\n",
        "while (x<12):\n",
        "    print(x)\n",
        "    x+=1"
      ],
      "metadata": {
        "colab": {
          "base_uri": "https://localhost:8080/"
        },
        "id": "F16lEuD9Vw79",
        "outputId": "eba37ae5-856a-43f3-d2b1-9443ed06a588"
      },
      "execution_count": 8,
      "outputs": [
        {
          "output_type": "stream",
          "name": "stdout",
          "text": [
            "0\n",
            "1\n",
            "2\n",
            "3\n",
            "4\n",
            "5\n",
            "6\n",
            "7\n",
            "8\n",
            "9\n",
            "10\n",
            "11\n"
          ]
        }
      ]
    },
    {
      "cell_type": "code",
      "source": [
        "\"\"\"\n",
        "Print odd numbers between 1 to 15 using for loop \n",
        "with an if statement\n",
        "\"\"\"\n",
        "int = 15\n",
        "for Oddnum in range (1, int):\n",
        "  if (Oddnum % 2 !=0):\n",
        "    print(Oddnum)"
      ],
      "metadata": {
        "colab": {
          "base_uri": "https://localhost:8080/"
        },
        "id": "RPJMrBERV9Qy",
        "outputId": "5df4c8eb-f335-47c8-ad06-561e64ed8a1d"
      },
      "execution_count": 11,
      "outputs": [
        {
          "output_type": "stream",
          "name": "stdout",
          "text": [
            "1\n",
            "3\n",
            "5\n",
            "7\n",
            "9\n",
            "11\n",
            "13\n"
          ]
        }
      ]
    },
    {
      "cell_type": "code",
      "source": [
        "\"\"\"\n",
        "Print odd numbers between 1 to 15 using for loop \n",
        "without an if statement\n",
        "\"\"\"\n",
        "int = 15\n",
        "for oddnum in range(1,int,2):\n",
        "  print(oddnum)"
      ],
      "metadata": {
        "colab": {
          "base_uri": "https://localhost:8080/"
        },
        "id": "jHPvniSnckma",
        "outputId": "e3ba10bf-8777-4ab3-f052-43445fa4e1ba"
      },
      "execution_count": 12,
      "outputs": [
        {
          "output_type": "stream",
          "name": "stdout",
          "text": [
            "1\n",
            "3\n",
            "5\n",
            "7\n",
            "9\n",
            "11\n",
            "13\n"
          ]
        }
      ]
    },
    {
      "cell_type": "code",
      "source": [
        "\"\"\"\n",
        "Print odd numbers between 1 to 15 using while loop \n",
        "\"\"\"\n",
        "int = 15\n",
        "\n",
        "oddnum =1\n",
        "while oddnum <= int:\n",
        "  if (oddnum % 2 !=0):\n",
        "    print(oddnum)\n",
        "  oddnum = oddnum + 1"
      ],
      "metadata": {
        "colab": {
          "base_uri": "https://localhost:8080/"
        },
        "id": "XWu2NnZveAz0",
        "outputId": "a8461115-1b39-4936-a7ee-9ff49de14b7b"
      },
      "execution_count": 15,
      "outputs": [
        {
          "output_type": "stream",
          "name": "stdout",
          "text": [
            "1\n",
            "3\n",
            "5\n",
            "7\n",
            "9\n",
            "11\n",
            "13\n",
            "15\n"
          ]
        }
      ]
    },
    {
      "cell_type": "code",
      "source": [
        "\"\"\"\n",
        "Print even numbers between 1 to 15 using for loop \n",
        "with an if statement\n",
        "\"\"\"\n",
        "int = 15\n",
        "for evenNum in range (1, int):\n",
        "  if (evenNum % 2 == 0):\n",
        "    print(evenNum)"
      ],
      "metadata": {
        "colab": {
          "base_uri": "https://localhost:8080/"
        },
        "id": "GU9RRdm0e6og",
        "outputId": "06ecd987-8d57-4dac-f66d-96d43236a2c8"
      },
      "execution_count": 18,
      "outputs": [
        {
          "output_type": "stream",
          "name": "stdout",
          "text": [
            "2\n",
            "4\n",
            "6\n",
            "8\n",
            "10\n",
            "12\n",
            "14\n"
          ]
        }
      ]
    },
    {
      "cell_type": "code",
      "source": [
        "\"\"\"\n",
        "Print even numbers between 1 to 15 using for loop \n",
        "without an if statement\n",
        "\"\"\"\n",
        "int = 15\n",
        "for evenNum in range (2, int,2):\n",
        "    print(evenNum)"
      ],
      "metadata": {
        "colab": {
          "base_uri": "https://localhost:8080/"
        },
        "id": "FoKuZo7nhdJN",
        "outputId": "43477088-fe1b-4faa-996f-6786b3623cd8"
      },
      "execution_count": 19,
      "outputs": [
        {
          "output_type": "stream",
          "name": "stdout",
          "text": [
            "2\n",
            "4\n",
            "6\n",
            "8\n",
            "10\n",
            "12\n",
            "14\n"
          ]
        }
      ]
    },
    {
      "cell_type": "code",
      "source": [
        "\"\"\"\n",
        "Print odd numbers between 1 to 15 using while loop \n",
        "\"\"\"\n",
        "int = 15\n",
        "\n",
        "oddnum =1\n",
        "while oddnum <= int:\n",
        "  if (oddnum % 2 ==0):\n",
        "    print(oddnum)\n",
        "  oddnum = oddnum + 1"
      ],
      "metadata": {
        "colab": {
          "base_uri": "https://localhost:8080/"
        },
        "id": "E-pSU22gh3_5",
        "outputId": "6e85a09b-2565-45f5-f810-4b41d505f25a"
      },
      "execution_count": 20,
      "outputs": [
        {
          "output_type": "stream",
          "name": "stdout",
          "text": [
            "2\n",
            "4\n",
            "6\n",
            "8\n",
            "10\n",
            "12\n",
            "14\n"
          ]
        }
      ]
    },
    {
      "cell_type": "code",
      "source": [
        ""
      ],
      "metadata": {
        "id": "wGnqqe-FiIRI"
      },
      "execution_count": null,
      "outputs": []
    }
  ]
}