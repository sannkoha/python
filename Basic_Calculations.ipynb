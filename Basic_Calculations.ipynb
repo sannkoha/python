{
  "nbformat": 4,
  "nbformat_minor": 0,
  "metadata": {
    "colab": {
      "name": "Basic_Calculations.ipynb",
      "provenance": [],
      "collapsed_sections": [],
      "authorship_tag": "ABX9TyNFvhkEdKMWSM8PV7yNpPqX",
      "include_colab_link": true
    },
    "kernelspec": {
      "name": "python3",
      "display_name": "Python 3"
    },
    "language_info": {
      "name": "python"
    }
  },
  "cells": [
    {
      "cell_type": "markdown",
      "metadata": {
        "id": "view-in-github",
        "colab_type": "text"
      },
      "source": [
        "<a href=\"https://colab.research.google.com/github/sannkoha/python/blob/master/Basic_Calculations.ipynb\" target=\"_parent\"><img src=\"https://colab.research.google.com/assets/colab-badge.svg\" alt=\"Open In Colab\"/></a>"
      ]
    },
    {
      "cell_type": "code",
      "execution_count": 9,
      "metadata": {
        "colab": {
          "base_uri": "https://localhost:8080/"
        },
        "id": "lys0xsJGqy8o",
        "outputId": "597aea99-6702-4973-fa68-07d5c62b26d0"
      },
      "outputs": [
        {
          "output_type": "stream",
          "name": "stdout",
          "text": [
            "15\n"
          ]
        }
      ],
      "source": [
        "\"\"\"\n",
        "Find/Calculate the sum of n natural numbers using loop and range function\n",
        "\"\"\"\n",
        "n= 5 #input(\"Enter Number to calculate sum \")\n",
        "n= int(n)\n",
        "sum =0\n",
        "for num in range(0, n+1, 1):\n",
        "  sum = sum+num\n",
        "print(sum)\n",
        "# print(\"SUM of first \", n, \"numbers is: \", sum )"
      ]
    },
    {
      "cell_type": "code",
      "source": [
        "\"\"\"\n",
        "Python program to find the sum of n numbers using While loop:\n",
        "\"\"\"\n",
        "n= 10\n",
        "n = int(n)\n",
        "result =n\n",
        "sum=0\n",
        "while (n>=0):\n",
        "  sum += n\n",
        "  n-=1\n",
        "print(sum)"
      ],
      "metadata": {
        "colab": {
          "base_uri": "https://localhost:8080/"
        },
        "id": "y28GH7b7sZIK",
        "outputId": "4a43a302-0d34-40a3-b4d9-33810298d622"
      },
      "execution_count": 13,
      "outputs": [
        {
          "output_type": "stream",
          "name": "stdout",
          "text": [
            "55\n"
          ]
        }
      ]
    },
    {
      "cell_type": "code",
      "source": [
        "\"\"\"\n",
        "Python program to Find/Calculate the sum of numbers in a given list\n",
        "\"\"\"\n",
        "sum = 0\n",
        "list =[1,2,3,4,5]\n",
        "for num in list:\n",
        "  sum = sum + num\n",
        "print(sum) "
      ],
      "metadata": {
        "colab": {
          "base_uri": "https://localhost:8080/"
        },
        "id": "4gsdQQ_UrVx1",
        "outputId": "91781fe3-2a30-471f-d46a-bc670cf7d751"
      },
      "execution_count": 14,
      "outputs": [
        {
          "output_type": "stream",
          "name": "stdout",
          "text": [
            "15\n"
          ]
        }
      ]
    },
    {
      "cell_type": "code",
      "source": [
        "\"\"\"\n",
        "The mathematical formula to Find/Calculate the sum of n numbers with python program\n",
        "\"\"\"\n",
        "n= 5\n",
        "n = int(n)\n",
        "sum = n* (n+1)/2\n",
        "print(sum)"
      ],
      "metadata": {
        "colab": {
          "base_uri": "https://localhost:8080/"
        },
        "id": "OPu_YJK6vsfS",
        "outputId": "96a343e2-76ff-4edd-9a75-2a414e33153c"
      },
      "execution_count": 15,
      "outputs": [
        {
          "output_type": "stream",
          "name": "stdout",
          "text": [
            "15.0\n"
          ]
        }
      ]
    },
    {
      "cell_type": "code",
      "source": [
        "\"\"\"\n",
        "Python Program to Find/Calculate sum of n odd natural numbers\n",
        "\"\"\"\n",
        "n =5\n",
        "n =int(n)\n",
        "sum = 0\n",
        "for sumofoddnum in range (0,n+1,1):\n",
        "  if(sumofoddnum % 2 != 0):\n",
        "    sum += sumofoddnum\n",
        "print(sum)\n"
      ],
      "metadata": {
        "colab": {
          "base_uri": "https://localhost:8080/"
        },
        "id": "O2I7EXpEx7WV",
        "outputId": "de201c26-8fa7-44e3-ae90-eb94642431c1"
      },
      "execution_count": 17,
      "outputs": [
        {
          "output_type": "stream",
          "name": "stdout",
          "text": [
            "9\n"
          ]
        }
      ]
    },
    {
      "cell_type": "code",
      "source": [
        "\"\"\"\n",
        "Python Program to Find/Calculate sum of n even natural numbers\n",
        "\"\"\"\n",
        "\n",
        "n= 5\n",
        "n=int(n)\n",
        "sum = 0\n",
        "for sumofeven in range(0,n+1,1):\n",
        "  if(sumofeven % 2 == 0):\n",
        "    sum += sumofeven\n",
        "print(sum)\n",
        "\n"
      ],
      "metadata": {
        "colab": {
          "base_uri": "https://localhost:8080/"
        },
        "id": "ri85QXHDzsb-",
        "outputId": "c7cfa5a8-bd4d-49f0-ea5e-05d085cc0167"
      },
      "execution_count": 18,
      "outputs": [
        {
          "output_type": "stream",
          "name": "stdout",
          "text": [
            "6\n"
          ]
        }
      ]
    },
    {
      "cell_type": "code",
      "source": [
        ""
      ],
      "metadata": {
        "id": "Cvne8rKB0qye"
      },
      "execution_count": 19,
      "outputs": []
    },
    {
      "cell_type": "code",
      "source": [
        ""
      ],
      "metadata": {
        "id": "MZHY0eEh08CO"
      },
      "execution_count": null,
      "outputs": []
    }
  ]
}