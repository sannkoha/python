{
  "nbformat": 4,
  "nbformat_minor": 0,
  "metadata": {
    "colab": {
      "name": "Functions.ipynb",
      "provenance": [],
      "authorship_tag": "ABX9TyMwUy1i+Wg5avguNxvgGTft",
      "include_colab_link": true
    },
    "kernelspec": {
      "name": "python3",
      "display_name": "Python 3"
    },
    "language_info": {
      "name": "python"
    }
  },
  "cells": [
    {
      "cell_type": "markdown",
      "metadata": {
        "id": "view-in-github",
        "colab_type": "text"
      },
      "source": [
        "<a href=\"https://colab.research.google.com/github/sannkoha/python/blob/master/Functions.ipynb\" target=\"_parent\"><img src=\"https://colab.research.google.com/assets/colab-badge.svg\" alt=\"Open In Colab\"/></a>"
      ]
    },
    {
      "cell_type": "code",
      "execution_count": 1,
      "metadata": {
        "colab": {
          "base_uri": "https://localhost:8080/"
        },
        "id": "t4n4h7rc2mB0",
        "outputId": "d7a59096-ce46-4c6d-8b61-491b53568097"
      },
      "outputs": [
        {
          "output_type": "stream",
          "name": "stdout",
          "text": [
            "0\n",
            "1\n",
            "2\n",
            "3\n",
            "4\n",
            "5\n",
            "6\n",
            "7\n",
            "8\n"
          ]
        }
      ],
      "source": [
        "i = 0\n",
        "while i < 10:\n",
        "    if i == 9:\n",
        "        i = i + 1\n",
        "        continue\n",
        "    print(i)\n",
        "    i = i +1"
      ]
    },
    {
      "cell_type": "code",
      "source": [
        "for i in range(30):\n",
        "    for j in range (20):\n",
        "        if j == 15:\n",
        "            break\n",
        "        print(f\"i ={i}, j= {j}\")"
      ],
      "metadata": {
        "colab": {
          "base_uri": "https://localhost:8080/"
        },
        "id": "CyWO0bsW2tXF",
        "outputId": "e2a8129b-012f-4932-fc3f-dabc2d97eef6"
      },
      "execution_count": 2,
      "outputs": [
        {
          "output_type": "stream",
          "name": "stdout",
          "text": [
            "i =0, j= 0\n",
            "i =0, j= 1\n",
            "i =0, j= 2\n",
            "i =0, j= 3\n",
            "i =0, j= 4\n",
            "i =0, j= 5\n",
            "i =0, j= 6\n",
            "i =0, j= 7\n",
            "i =0, j= 8\n",
            "i =0, j= 9\n",
            "i =0, j= 10\n",
            "i =0, j= 11\n",
            "i =0, j= 12\n",
            "i =0, j= 13\n",
            "i =0, j= 14\n",
            "i =1, j= 0\n",
            "i =1, j= 1\n",
            "i =1, j= 2\n",
            "i =1, j= 3\n",
            "i =1, j= 4\n",
            "i =1, j= 5\n",
            "i =1, j= 6\n",
            "i =1, j= 7\n",
            "i =1, j= 8\n",
            "i =1, j= 9\n",
            "i =1, j= 10\n",
            "i =1, j= 11\n",
            "i =1, j= 12\n",
            "i =1, j= 13\n",
            "i =1, j= 14\n",
            "i =2, j= 0\n",
            "i =2, j= 1\n",
            "i =2, j= 2\n",
            "i =2, j= 3\n",
            "i =2, j= 4\n",
            "i =2, j= 5\n",
            "i =2, j= 6\n",
            "i =2, j= 7\n",
            "i =2, j= 8\n",
            "i =2, j= 9\n",
            "i =2, j= 10\n",
            "i =2, j= 11\n",
            "i =2, j= 12\n",
            "i =2, j= 13\n",
            "i =2, j= 14\n",
            "i =3, j= 0\n",
            "i =3, j= 1\n",
            "i =3, j= 2\n",
            "i =3, j= 3\n",
            "i =3, j= 4\n",
            "i =3, j= 5\n",
            "i =3, j= 6\n",
            "i =3, j= 7\n",
            "i =3, j= 8\n",
            "i =3, j= 9\n",
            "i =3, j= 10\n",
            "i =3, j= 11\n",
            "i =3, j= 12\n",
            "i =3, j= 13\n",
            "i =3, j= 14\n",
            "i =4, j= 0\n",
            "i =4, j= 1\n",
            "i =4, j= 2\n",
            "i =4, j= 3\n",
            "i =4, j= 4\n",
            "i =4, j= 5\n",
            "i =4, j= 6\n",
            "i =4, j= 7\n",
            "i =4, j= 8\n",
            "i =4, j= 9\n",
            "i =4, j= 10\n",
            "i =4, j= 11\n",
            "i =4, j= 12\n",
            "i =4, j= 13\n",
            "i =4, j= 14\n",
            "i =5, j= 0\n",
            "i =5, j= 1\n",
            "i =5, j= 2\n",
            "i =5, j= 3\n",
            "i =5, j= 4\n",
            "i =5, j= 5\n",
            "i =5, j= 6\n",
            "i =5, j= 7\n",
            "i =5, j= 8\n",
            "i =5, j= 9\n",
            "i =5, j= 10\n",
            "i =5, j= 11\n",
            "i =5, j= 12\n",
            "i =5, j= 13\n",
            "i =5, j= 14\n",
            "i =6, j= 0\n",
            "i =6, j= 1\n",
            "i =6, j= 2\n",
            "i =6, j= 3\n",
            "i =6, j= 4\n",
            "i =6, j= 5\n",
            "i =6, j= 6\n",
            "i =6, j= 7\n",
            "i =6, j= 8\n",
            "i =6, j= 9\n",
            "i =6, j= 10\n",
            "i =6, j= 11\n",
            "i =6, j= 12\n",
            "i =6, j= 13\n",
            "i =6, j= 14\n",
            "i =7, j= 0\n",
            "i =7, j= 1\n",
            "i =7, j= 2\n",
            "i =7, j= 3\n",
            "i =7, j= 4\n",
            "i =7, j= 5\n",
            "i =7, j= 6\n",
            "i =7, j= 7\n",
            "i =7, j= 8\n",
            "i =7, j= 9\n",
            "i =7, j= 10\n",
            "i =7, j= 11\n",
            "i =7, j= 12\n",
            "i =7, j= 13\n",
            "i =7, j= 14\n",
            "i =8, j= 0\n",
            "i =8, j= 1\n",
            "i =8, j= 2\n",
            "i =8, j= 3\n",
            "i =8, j= 4\n",
            "i =8, j= 5\n",
            "i =8, j= 6\n",
            "i =8, j= 7\n",
            "i =8, j= 8\n",
            "i =8, j= 9\n",
            "i =8, j= 10\n",
            "i =8, j= 11\n",
            "i =8, j= 12\n",
            "i =8, j= 13\n",
            "i =8, j= 14\n",
            "i =9, j= 0\n",
            "i =9, j= 1\n",
            "i =9, j= 2\n",
            "i =9, j= 3\n",
            "i =9, j= 4\n",
            "i =9, j= 5\n",
            "i =9, j= 6\n",
            "i =9, j= 7\n",
            "i =9, j= 8\n",
            "i =9, j= 9\n",
            "i =9, j= 10\n",
            "i =9, j= 11\n",
            "i =9, j= 12\n",
            "i =9, j= 13\n",
            "i =9, j= 14\n",
            "i =10, j= 0\n",
            "i =10, j= 1\n",
            "i =10, j= 2\n",
            "i =10, j= 3\n",
            "i =10, j= 4\n",
            "i =10, j= 5\n",
            "i =10, j= 6\n",
            "i =10, j= 7\n",
            "i =10, j= 8\n",
            "i =10, j= 9\n",
            "i =10, j= 10\n",
            "i =10, j= 11\n",
            "i =10, j= 12\n",
            "i =10, j= 13\n",
            "i =10, j= 14\n",
            "i =11, j= 0\n",
            "i =11, j= 1\n",
            "i =11, j= 2\n",
            "i =11, j= 3\n",
            "i =11, j= 4\n",
            "i =11, j= 5\n",
            "i =11, j= 6\n",
            "i =11, j= 7\n",
            "i =11, j= 8\n",
            "i =11, j= 9\n",
            "i =11, j= 10\n",
            "i =11, j= 11\n",
            "i =11, j= 12\n",
            "i =11, j= 13\n",
            "i =11, j= 14\n",
            "i =12, j= 0\n",
            "i =12, j= 1\n",
            "i =12, j= 2\n",
            "i =12, j= 3\n",
            "i =12, j= 4\n",
            "i =12, j= 5\n",
            "i =12, j= 6\n",
            "i =12, j= 7\n",
            "i =12, j= 8\n",
            "i =12, j= 9\n",
            "i =12, j= 10\n",
            "i =12, j= 11\n",
            "i =12, j= 12\n",
            "i =12, j= 13\n",
            "i =12, j= 14\n",
            "i =13, j= 0\n",
            "i =13, j= 1\n",
            "i =13, j= 2\n",
            "i =13, j= 3\n",
            "i =13, j= 4\n",
            "i =13, j= 5\n",
            "i =13, j= 6\n",
            "i =13, j= 7\n",
            "i =13, j= 8\n",
            "i =13, j= 9\n",
            "i =13, j= 10\n",
            "i =13, j= 11\n",
            "i =13, j= 12\n",
            "i =13, j= 13\n",
            "i =13, j= 14\n",
            "i =14, j= 0\n",
            "i =14, j= 1\n",
            "i =14, j= 2\n",
            "i =14, j= 3\n",
            "i =14, j= 4\n",
            "i =14, j= 5\n",
            "i =14, j= 6\n",
            "i =14, j= 7\n",
            "i =14, j= 8\n",
            "i =14, j= 9\n",
            "i =14, j= 10\n",
            "i =14, j= 11\n",
            "i =14, j= 12\n",
            "i =14, j= 13\n",
            "i =14, j= 14\n",
            "i =15, j= 0\n",
            "i =15, j= 1\n",
            "i =15, j= 2\n",
            "i =15, j= 3\n",
            "i =15, j= 4\n",
            "i =15, j= 5\n",
            "i =15, j= 6\n",
            "i =15, j= 7\n",
            "i =15, j= 8\n",
            "i =15, j= 9\n",
            "i =15, j= 10\n",
            "i =15, j= 11\n",
            "i =15, j= 12\n",
            "i =15, j= 13\n",
            "i =15, j= 14\n",
            "i =16, j= 0\n",
            "i =16, j= 1\n",
            "i =16, j= 2\n",
            "i =16, j= 3\n",
            "i =16, j= 4\n",
            "i =16, j= 5\n",
            "i =16, j= 6\n",
            "i =16, j= 7\n",
            "i =16, j= 8\n",
            "i =16, j= 9\n",
            "i =16, j= 10\n",
            "i =16, j= 11\n",
            "i =16, j= 12\n",
            "i =16, j= 13\n",
            "i =16, j= 14\n",
            "i =17, j= 0\n",
            "i =17, j= 1\n",
            "i =17, j= 2\n",
            "i =17, j= 3\n",
            "i =17, j= 4\n",
            "i =17, j= 5\n",
            "i =17, j= 6\n",
            "i =17, j= 7\n",
            "i =17, j= 8\n",
            "i =17, j= 9\n",
            "i =17, j= 10\n",
            "i =17, j= 11\n",
            "i =17, j= 12\n",
            "i =17, j= 13\n",
            "i =17, j= 14\n",
            "i =18, j= 0\n",
            "i =18, j= 1\n",
            "i =18, j= 2\n",
            "i =18, j= 3\n",
            "i =18, j= 4\n",
            "i =18, j= 5\n",
            "i =18, j= 6\n",
            "i =18, j= 7\n",
            "i =18, j= 8\n",
            "i =18, j= 9\n",
            "i =18, j= 10\n",
            "i =18, j= 11\n",
            "i =18, j= 12\n",
            "i =18, j= 13\n",
            "i =18, j= 14\n",
            "i =19, j= 0\n",
            "i =19, j= 1\n",
            "i =19, j= 2\n",
            "i =19, j= 3\n",
            "i =19, j= 4\n",
            "i =19, j= 5\n",
            "i =19, j= 6\n",
            "i =19, j= 7\n",
            "i =19, j= 8\n",
            "i =19, j= 9\n",
            "i =19, j= 10\n",
            "i =19, j= 11\n",
            "i =19, j= 12\n",
            "i =19, j= 13\n",
            "i =19, j= 14\n",
            "i =20, j= 0\n",
            "i =20, j= 1\n",
            "i =20, j= 2\n",
            "i =20, j= 3\n",
            "i =20, j= 4\n",
            "i =20, j= 5\n",
            "i =20, j= 6\n",
            "i =20, j= 7\n",
            "i =20, j= 8\n",
            "i =20, j= 9\n",
            "i =20, j= 10\n",
            "i =20, j= 11\n",
            "i =20, j= 12\n",
            "i =20, j= 13\n",
            "i =20, j= 14\n",
            "i =21, j= 0\n",
            "i =21, j= 1\n",
            "i =21, j= 2\n",
            "i =21, j= 3\n",
            "i =21, j= 4\n",
            "i =21, j= 5\n",
            "i =21, j= 6\n",
            "i =21, j= 7\n",
            "i =21, j= 8\n",
            "i =21, j= 9\n",
            "i =21, j= 10\n",
            "i =21, j= 11\n",
            "i =21, j= 12\n",
            "i =21, j= 13\n",
            "i =21, j= 14\n",
            "i =22, j= 0\n",
            "i =22, j= 1\n",
            "i =22, j= 2\n",
            "i =22, j= 3\n",
            "i =22, j= 4\n",
            "i =22, j= 5\n",
            "i =22, j= 6\n",
            "i =22, j= 7\n",
            "i =22, j= 8\n",
            "i =22, j= 9\n",
            "i =22, j= 10\n",
            "i =22, j= 11\n",
            "i =22, j= 12\n",
            "i =22, j= 13\n",
            "i =22, j= 14\n",
            "i =23, j= 0\n",
            "i =23, j= 1\n",
            "i =23, j= 2\n",
            "i =23, j= 3\n",
            "i =23, j= 4\n",
            "i =23, j= 5\n",
            "i =23, j= 6\n",
            "i =23, j= 7\n",
            "i =23, j= 8\n",
            "i =23, j= 9\n",
            "i =23, j= 10\n",
            "i =23, j= 11\n",
            "i =23, j= 12\n",
            "i =23, j= 13\n",
            "i =23, j= 14\n",
            "i =24, j= 0\n",
            "i =24, j= 1\n",
            "i =24, j= 2\n",
            "i =24, j= 3\n",
            "i =24, j= 4\n",
            "i =24, j= 5\n",
            "i =24, j= 6\n",
            "i =24, j= 7\n",
            "i =24, j= 8\n",
            "i =24, j= 9\n",
            "i =24, j= 10\n",
            "i =24, j= 11\n",
            "i =24, j= 12\n",
            "i =24, j= 13\n",
            "i =24, j= 14\n",
            "i =25, j= 0\n",
            "i =25, j= 1\n",
            "i =25, j= 2\n",
            "i =25, j= 3\n",
            "i =25, j= 4\n",
            "i =25, j= 5\n",
            "i =25, j= 6\n",
            "i =25, j= 7\n",
            "i =25, j= 8\n",
            "i =25, j= 9\n",
            "i =25, j= 10\n",
            "i =25, j= 11\n",
            "i =25, j= 12\n",
            "i =25, j= 13\n",
            "i =25, j= 14\n",
            "i =26, j= 0\n",
            "i =26, j= 1\n",
            "i =26, j= 2\n",
            "i =26, j= 3\n",
            "i =26, j= 4\n",
            "i =26, j= 5\n",
            "i =26, j= 6\n",
            "i =26, j= 7\n",
            "i =26, j= 8\n",
            "i =26, j= 9\n",
            "i =26, j= 10\n",
            "i =26, j= 11\n",
            "i =26, j= 12\n",
            "i =26, j= 13\n",
            "i =26, j= 14\n",
            "i =27, j= 0\n",
            "i =27, j= 1\n",
            "i =27, j= 2\n",
            "i =27, j= 3\n",
            "i =27, j= 4\n",
            "i =27, j= 5\n",
            "i =27, j= 6\n",
            "i =27, j= 7\n",
            "i =27, j= 8\n",
            "i =27, j= 9\n",
            "i =27, j= 10\n",
            "i =27, j= 11\n",
            "i =27, j= 12\n",
            "i =27, j= 13\n",
            "i =27, j= 14\n",
            "i =28, j= 0\n",
            "i =28, j= 1\n",
            "i =28, j= 2\n",
            "i =28, j= 3\n",
            "i =28, j= 4\n",
            "i =28, j= 5\n",
            "i =28, j= 6\n",
            "i =28, j= 7\n",
            "i =28, j= 8\n",
            "i =28, j= 9\n",
            "i =28, j= 10\n",
            "i =28, j= 11\n",
            "i =28, j= 12\n",
            "i =28, j= 13\n",
            "i =28, j= 14\n",
            "i =29, j= 0\n",
            "i =29, j= 1\n",
            "i =29, j= 2\n",
            "i =29, j= 3\n",
            "i =29, j= 4\n",
            "i =29, j= 5\n",
            "i =29, j= 6\n",
            "i =29, j= 7\n",
            "i =29, j= 8\n",
            "i =29, j= 9\n",
            "i =29, j= 10\n",
            "i =29, j= 11\n",
            "i =29, j= 12\n",
            "i =29, j= 13\n",
            "i =29, j= 14\n"
          ]
        }
      ]
    },
    {
      "cell_type": "code",
      "source": [
        ""
      ],
      "metadata": {
        "colab": {
          "base_uri": "https://localhost:8080/",
          "height": 166
        },
        "id": "F40bQp6p2yMZ",
        "outputId": "e807344b-b457-4f1e-b620-3cb381269025"
      },
      "execution_count": 4,
      "outputs": [
        {
          "output_type": "error",
          "ename": "FileNotFoundError",
          "evalue": "ignored",
          "traceback": [
            "\u001b[0;31m---------------------------------------------------------------------------\u001b[0m",
            "\u001b[0;31mFileNotFoundError\u001b[0m                         Traceback (most recent call last)",
            "\u001b[0;32m<ipython-input-4-08b24fca51c3>\u001b[0m in \u001b[0;36m<module>\u001b[0;34m()\u001b[0m\n\u001b[0;32m----> 1\u001b[0;31m \u001b[0mj\u001b[0m \u001b[0;34m=\u001b[0m \u001b[0mopen\u001b[0m\u001b[0;34m(\u001b[0m\u001b[0;34m\"simulated.csv\"\u001b[0m\u001b[0;34m)\u001b[0m\u001b[0;34m\u001b[0m\u001b[0;34m\u001b[0m\u001b[0m\n\u001b[0m",
            "\u001b[0;31mFileNotFoundError\u001b[0m: [Errno 2] No such file or directory: 'simulated.csv'"
          ]
        }
      ]
    },
    {
      "cell_type": "code",
      "source": [
        ""
      ],
      "metadata": {
        "colab": {
          "base_uri": "https://localhost:8080/"
        },
        "id": "0z1BvJh13JS2",
        "outputId": "26b0cc24-f737-4d05-9e42-f3b44e31eab9"
      },
      "execution_count": 5,
      "outputs": [
        {
          "output_type": "stream",
          "name": "stdout",
          "text": [
            "\u001b[0m\u001b[01;34msample_data\u001b[0m/\n"
          ]
        }
      ]
    },
    {
      "cell_type": "code",
      "source": [
        ""
      ],
      "metadata": {
        "colab": {
          "base_uri": "https://localhost:8080/",
          "height": 35
        },
        "id": "elBOGyhu3Wmm",
        "outputId": "e926dc97-f074-45a4-f00a-0c3acdb6dcc0"
      },
      "execution_count": 7,
      "outputs": [
        {
          "output_type": "execute_result",
          "data": {
            "application/vnd.google.colaboratory.intrinsic+json": {
              "type": "string"
            },
            "text/plain": [
              "'/content'"
            ]
          },
          "metadata": {},
          "execution_count": 7
        }
      ]
    },
    {
      "cell_type": "code",
      "source": [
        "from google.colab import files\n",
        "uploaded = files.upload()"
      ],
      "metadata": {
        "colab": {
          "resources": {
            "http://localhost:8080/nbextensions/google.colab/files.js": {
              "data": "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",
              "ok": true,
              "headers": [
                [
                  "content-type",
                  "application/javascript"
                ]
              ],
              "status": 200,
              "status_text": ""
            }
          },
          "base_uri": "https://localhost:8080/",
          "height": 73
        },
        "id": "a0ixan6I3X6V",
        "outputId": "61921b72-29cd-4e27-9b8e-513a0accc711"
      },
      "execution_count": 8,
      "outputs": [
        {
          "output_type": "display_data",
          "data": {
            "text/html": [
              "\n",
              "     <input type=\"file\" id=\"files-5dc108d9-b367-472d-87c7-449056f86c57\" name=\"files[]\" multiple disabled\n",
              "        style=\"border:none\" />\n",
              "     <output id=\"result-5dc108d9-b367-472d-87c7-449056f86c57\">\n",
              "      Upload widget is only available when the cell has been executed in the\n",
              "      current browser session. Please rerun this cell to enable.\n",
              "      </output>\n",
              "      <script src=\"/nbextensions/google.colab/files.js\"></script> "
            ],
            "text/plain": [
              "<IPython.core.display.HTML object>"
            ]
          },
          "metadata": {}
        },
        {
          "output_type": "stream",
          "name": "stdout",
          "text": [
            "Saving simulated.csv to simulated.csv\n"
          ]
        }
      ]
    },
    {
      "cell_type": "code",
      "source": [
        "j = open(\"simulated.csv\")"
      ],
      "metadata": {
        "id": "qxS-twLR4FeS"
      },
      "execution_count": 9,
      "outputs": []
    },
    {
      "cell_type": "code",
      "source": [
        "data =[]\n",
        "for line in j:\n",
        "    data.append(line.split(\",\"))"
      ],
      "metadata": {
        "id": "uj50e__64Ong"
      },
      "execution_count": 10,
      "outputs": []
    },
    {
      "cell_type": "code",
      "source": [
        "j.read()"
      ],
      "metadata": {
        "colab": {
          "base_uri": "https://localhost:8080/",
          "height": 35
        },
        "id": "MONBFvcG4gJk",
        "outputId": "99459cac-a4ec-4670-d74a-88b05afc554d"
      },
      "execution_count": 13,
      "outputs": [
        {
          "output_type": "execute_result",
          "data": {
            "application/vnd.google.colaboratory.intrinsic+json": {
              "type": "string"
            },
            "text/plain": [
              "''"
            ]
          },
          "metadata": {},
          "execution_count": 13
        }
      ]
    },
    {
      "cell_type": "code",
      "source": [
        "line = j.readline()\n",
        "while line:\n",
        "\tdata.append(line.split(\",\"))\n",
        "\tline = j.readline()\n",
        "\n",
        "j.close()\n",
        "data"
      ],
      "metadata": {
        "colab": {
          "base_uri": "https://localhost:8080/"
        },
        "id": "qrX1zZbP4qtC",
        "outputId": "9d1a1992-40d1-4501-d4a9-8f1de835934e"
      },
      "execution_count": 15,
      "outputs": [
        {
          "output_type": "execute_result",
          "data": {
            "text/plain": [
              "[['x', 'y\\n'],\n",
              " ['0.0', '0.08625973447012593\\n'],\n",
              " ['0.06346651825433926', '0.8811651857656125\\n'],\n",
              " ['0.12693303650867852', '0.1452606549499904\\n'],\n",
              " ['0.1903995547630178', '-0.2528235983667986\\n'],\n",
              " ['0.25386607301735703', '-0.3204481406790851\\n'],\n",
              " ['0.3173325912716963', '0.001350425740579253\\n'],\n",
              " ['0.3807991095260356', '-0.3026623356171993\\n'],\n",
              " ['0.4442656277803748', '0.019929394698559255\\n'],\n",
              " ['0.5077321460347141', '0.4190697863121704\\n'],\n",
              " ['0.5711986642890533', '1.3404408389773577\\n'],\n",
              " ['0.6346651825433925', '0.4511061119485641\\n'],\n",
              " ['0.6981317007977318', '0.3896177010270108\\n'],\n",
              " ['0.7615982190520711', '0.7245332235852399\\n'],\n",
              " ['0.8250647373064104', '1.4607214611339803\\n'],\n",
              " ['0.8885312555607496', '-0.04340133928821632\\n'],\n",
              " ['0.9519977738150889', '0.6582462314206619\\n'],\n",
              " ['1.0154642920694281', '0.4140922162122865\\n'],\n",
              " ['1.0789308103237674', '0.6531121652709694\\n'],\n",
              " ['1.1423973285781066', '0.8483986333679878\\n'],\n",
              " ['1.2058638468324459', '0.7086167067783247\\n'],\n",
              " ['1.269330365086785', '0.4087603732689725\\n'],\n",
              " ['1.3327968833411243', '0.2907217297246356\\n'],\n",
              " ['1.3962634015954636', '0.9018142684848096\\n'],\n",
              " ['1.4597299198498028', '1.3165330073120642\\n'],\n",
              " ['1.5231964381041423', '1.406404099928018\\n'],\n",
              " ['1.5866629563584815', '0.9905942810023121\\n'],\n",
              " ['1.6501294746128208', '1.2135451144591198\\n'],\n",
              " ['1.71359599286716', '1.1772397251470708\\n'],\n",
              " ['1.7770625111214993', '0.5342719557009364\\n'],\n",
              " ['1.8405290293758385', '1.1699792858735691\\n'],\n",
              " ['1.9039955476301778', '0.42983888762075106\\n'],\n",
              " ['1.967462065884517', '0.7517535808177694\\n'],\n",
              " ['2.0309285841388562', '-0.1258995614283439\\n'],\n",
              " ['2.0943951023931957', '0.4972063461399354\\n'],\n",
              " ['2.1578616206475347', '1.5117200734476632\\n'],\n",
              " ['2.221328138901874', '0.6448121366606798\\n'],\n",
              " ['2.284794657156213', '0.5397465482606961\\n'],\n",
              " ['2.3482611754105527', '0.6434420892865446\\n'],\n",
              " ['2.4117276936648917', '0.8488599021025757\\n'],\n",
              " ['2.475194211919231', '1.133894811087111\\n'],\n",
              " ['2.53866073017357', '0.9553673510763261\\n'],\n",
              " ['2.6021272484279097', '0.44986403826958293\\n'],\n",
              " ['2.6655937666822487', '0.5071711170352191\\n'],\n",
              " ['2.729060284936588', '-0.382234883256543\\n'],\n",
              " ['2.792526803190927', '0.1609590964028244\\n'],\n",
              " ['2.8559933214452666', '0.3881680003561164\\n'],\n",
              " ['2.9194598396996057', '0.35327785412025214\\n'],\n",
              " ['2.982926357953945', '-0.5406655086899175\\n'],\n",
              " ['3.0463928762082846', '0.19479892465029852\\n'],\n",
              " ['3.1098593944626236', '-0.08373883543136158\\n'],\n",
              " ['3.173325912716963', '0.036689768731657704\\n'],\n",
              " ['3.236792430971302', '0.8291157949676576\\n'],\n",
              " ['3.3002589492256416', '0.3742237261281557\\n'],\n",
              " ['3.3637254674799806', '-0.9890159173172316\\n'],\n",
              " ['3.42719198573432', '-0.24450242689389773\\n'],\n",
              " ['3.490658503988659', '0.3038984025480034\\n'],\n",
              " ['3.5541250222429985', '0.08238903016734689\\n'],\n",
              " ['3.6175915404973376', '-0.24725143492765211\\n'],\n",
              " ['3.681058058751677', '0.38421473102498704\\n'],\n",
              " ['3.744524577006016', '-0.6568355552349601\\n'],\n",
              " ['3.8079910952603555', '-0.12693770256279124\\n'],\n",
              " ['3.8714576135146945', '-0.29857883100344784\\n'],\n",
              " ['3.934924131769034', '-1.148691515133966\\n'],\n",
              " ['3.998390650023373', '-0.5943528639567582\\n'],\n",
              " ['4.0618571682777125', '-1.9406128505033524\\n'],\n",
              " ['4.1253236865320515', '-0.18550491958230864\\n'],\n",
              " ['4.188790204786391', '-0.6577047253506456\\n'],\n",
              " ['4.25225672304073', '-0.6358430369892132\\n'],\n",
              " ['4.3157232412950695', '-0.667361041575956\\n'],\n",
              " ['4.3791897595494085', '-1.1253945410490878\\n'],\n",
              " ['4.442656277803748', '-1.6232226245683903\\n'],\n",
              " ['4.506122796058087', '-1.0969549026527\\n'],\n",
              " ['4.569589314312426', '-0.6462154021806494\\n'],\n",
              " ['4.6330558325667655', '-0.946885998516035\\n'],\n",
              " ['4.696522350821105', '-0.5468980089644504\\n'],\n",
              " ['4.759988869075444', '-1.5934685855954978\\n'],\n",
              " ['4.823455387329783', '-0.858749753367593\\n'],\n",
              " ['4.886921905584122', '-1.046242316443068\\n'],\n",
              " ['4.950388423838462', '-0.43905137949587836\\n'],\n",
              " ['5.013854942092801', '-0.5095490083299272\\n'],\n",
              " ['5.07732146034714', '-1.077499991650697\\n'],\n",
              " ['5.14078797860148', '-0.9203007255008635\\n'],\n",
              " ['5.204254496855819', '-0.42179271138850805\\n'],\n",
              " ['5.267721015110158', '-1.202798979057853\\n'],\n",
              " ['5.331187533364497', '-1.2386789982930206\\n'],\n",
              " ['5.394654051618837', '-1.3133710913377072\\n'],\n",
              " ['5.458120569873176', '-0.7105807966753537\\n'],\n",
              " ['5.521587088127515', '-0.9194278361524575\\n'],\n",
              " ['5.585053606381854', '-1.0443098691892723\\n'],\n",
              " ['5.648520124636194', '-0.8818809184888721\\n'],\n",
              " ['5.711986642890533', '-0.1458919672564457\\n'],\n",
              " ['5.775453161144872', '-1.11107396091497\\n'],\n",
              " ['5.838919679399211', '-0.06856358169514659\\n'],\n",
              " ['5.902386197653551', '-0.3763729131734506\\n'],\n",
              " ['5.96585271590789', '1.1739614503070024\\n'],\n",
              " ['6.029319234162229', '-0.3122487478899568\\n'],\n",
              " ['6.092785752416569', '0.44325465720615753\\n'],\n",
              " ['6.156252270670908', '-0.12290294397603477\\n'],\n",
              " ['6.219718788925247', '-0.9618794148435863\\n'],\n",
              " ['6.283185307179586', '-0.2686293682716222\\n']]"
            ]
          },
          "metadata": {},
          "execution_count": 15
        }
      ]
    },
    {
      "cell_type": "code",
      "source": [
        "lst = [\"red\", \"green\", \"blue\"]\n",
        "\n",
        "for i, elt in enumerate(lst):\n",
        "\tprint(i, \":\", elt)"
      ],
      "metadata": {
        "colab": {
          "base_uri": "https://localhost:8080/"
        },
        "id": "puEH9xL57D20",
        "outputId": "4634e3de-d377-451a-dff9-41b9952e2e10"
      },
      "execution_count": 16,
      "outputs": [
        {
          "output_type": "stream",
          "name": "stdout",
          "text": [
            "0 : red\n",
            "1 : green\n",
            "2 : blue\n"
          ]
        }
      ]
    },
    {
      "cell_type": "code",
      "source": [
        "hotpink = {\"red\": 255, \"green\": 105, \"blue\": 180}\n",
        "\n",
        "for col, val in hotpink.items():\n",
        "\tprint(col, \":\", val)\n",
        "\n",
        "colors = [\"red\", \"green\", \"blue\"]\n",
        "values = [255, 105, 180]\n",
        "\n",
        "for col, val in zip(colors, values):\n",
        "\tprint(col, \":\", val)\n",
        "\n",
        "colors2, values2 = zip(*hotpink.items())"
      ],
      "metadata": {
        "colab": {
          "base_uri": "https://localhost:8080/"
        },
        "id": "meyUteyL7RmC",
        "outputId": "bf2bd776-f7dd-4cf5-d5e7-b3e04e50ef4b"
      },
      "execution_count": 17,
      "outputs": [
        {
          "output_type": "stream",
          "name": "stdout",
          "text": [
            "red : 255\n",
            "green : 105\n",
            "blue : 180\n",
            "red : 255\n",
            "green : 105\n",
            "blue : 180\n"
          ]
        }
      ]
    },
    {
      "cell_type": "code",
      "source": [
        "lst = [1, 2, 3, 4, 5, 6]\n",
        "\n",
        "out = []\n",
        "for x in lst:\n",
        "\tout.append(x ** 2)\n",
        "\n",
        "out"
      ],
      "metadata": {
        "colab": {
          "base_uri": "https://localhost:8080/"
        },
        "id": "37UO7-1Y7af7",
        "outputId": "92c293a3-365e-4709-9aaf-ffc48b97f486"
      },
      "execution_count": 18,
      "outputs": [
        {
          "output_type": "execute_result",
          "data": {
            "text/plain": [
              "[1, 4, 9, 16, 25, 36]"
            ]
          },
          "metadata": {},
          "execution_count": 18
        }
      ]
    },
    {
      "cell_type": "code",
      "source": [
        "lst = [1, 2, 3, 4, 5, 6]\n",
        "\n",
        "[x ** 2 for x in lst]\n",
        "\n",
        "lst = [1, 2, 3, 4, 5, 6]\n",
        "\n",
        "[x for x in lst if x % 2 != 0]"
      ],
      "metadata": {
        "colab": {
          "base_uri": "https://localhost:8080/"
        },
        "id": "CRTO94-f8ytG",
        "outputId": "2ad08b68-8808-4dfe-cf5d-506669228ac8"
      },
      "execution_count": 23,
      "outputs": [
        {
          "output_type": "execute_result",
          "data": {
            "text/plain": [
              "[1, 3, 5]"
            ]
          },
          "metadata": {},
          "execution_count": 23
        }
      ]
    },
    {
      "cell_type": "code",
      "source": [
        "y = 100\n",
        "\n",
        "def mysum(x):\n",
        "\t\"\"\"\n",
        "\tSums values of an iterable\n",
        "\tparam x: An iterable to sum the values\n",
        "\treturns: The sum\n",
        "\t\"\"\"\n",
        "\txsum = 0\n",
        "\tfor xi in x:\n",
        "\t\txsum += xi\n",
        "\treturn xsum\n",
        "\n",
        "print(mysum)"
      ],
      "metadata": {
        "colab": {
          "base_uri": "https://localhost:8080/"
        },
        "id": "aVN1_RPk8_ZT",
        "outputId": "7fddc9fc-ccd2-4780-aeeb-0aec8e7d6eef"
      },
      "execution_count": 1,
      "outputs": [
        {
          "output_type": "stream",
          "name": "stdout",
          "text": [
            "<function mysum at 0x7f5c11e9fa70>\n"
          ]
        }
      ]
    },
    {
      "cell_type": "code",
      "source": [
        ""
      ],
      "metadata": {
        "id": "aI3PrXbF9JBL"
      },
      "execution_count": 1,
      "outputs": []
    },
    {
      "cell_type": "code",
      "source": [
        ""
      ],
      "metadata": {
        "id": "qo8IdafFEMpK"
      },
      "execution_count": null,
      "outputs": []
    }
  ]
}